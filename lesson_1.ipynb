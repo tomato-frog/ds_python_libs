{
  "nbformat": 4,
  "nbformat_minor": 0,
  "metadata": {
    "colab": {
      "name": "lesson_1.ipynb",
      "provenance": [],
      "authorship_tag": "ABX9TyN/n+iPs67w8QSL+3/UDVHq",
      "include_colab_link": true
    },
    "kernelspec": {
      "name": "python3",
      "display_name": "Python 3"
    }
  },
  "cells": [
    {
      "cell_type": "markdown",
      "metadata": {
        "id": "view-in-github",
        "colab_type": "text"
      },
      "source": [
        "<a href=\"https://colab.research.google.com/github/tomato-frog/ds_python_libs/blob/lesson_1/lesson_1.ipynb\" target=\"_parent\"><img src=\"https://colab.research.google.com/assets/colab-badge.svg\" alt=\"Open In Colab\"/></a>"
      ]
    },
    {
      "cell_type": "markdown",
      "metadata": {
        "id": "FeYv3dpfWyel"
      },
      "source": [
        "# Тема “Вычисления с помощью Numpy”"
      ]
    },
    {
      "cell_type": "markdown",
      "metadata": {
        "id": "O0jb2-WcW66Z"
      },
      "source": [
        "### Задание 1\n",
        "Импортируйте библиотеку Numpy и дайте ей псевдоним np. Создайте массив Numpy под названием a размером 5x2, то есть состоящий из 5 строк и 2 столбцов. Первый столбец должен содержать числа 1, 2, 3, 3, 1, а второй - числа 6, 8, 11, 10, 7. Будем считать, что каждый столбец - это признак, а строка - наблюдение. Затем найдите среднее значение по каждому признаку, используя метод mean массива Numpy. Результат запишите в массив mean_a, в нем должно быть 2 элемента."
      ]
    },
    {
      "cell_type": "code",
      "metadata": {
        "id": "ppliQRHkgjsq"
      },
      "source": [
        "import numpy as np\n",
        "\n",
        "a = np.array([\n",
        "                [1, 6],\n",
        "                [2, 8],\n",
        "                [3, 11],\n",
        "                [3, 10],\n",
        "                [1, 7]\n",
        "])\n",
        "\n",
        "mean_a = np.mean(a, axis=0)"
      ],
      "execution_count": 3,
      "outputs": []
    },
    {
      "cell_type": "markdown",
      "metadata": {
        "id": "lC69-ftCkroT"
      },
      "source": [
        "### Задание 2\n",
        "Вычислите массив a_centered, отняв от значений массива “а” средние значения соответствующих признаков, содержащиеся в массиве mean_a. Вычисление должно производиться в одно действие. Получившийся массив должен иметь размер 5x2.\n"
      ]
    },
    {
      "cell_type": "code",
      "metadata": {
        "id": "71aqIc0NLo5E"
      },
      "source": [
        "a_centered = np.subtract(a, mean_a)\n",
        "a_centered"
      ],
      "execution_count": null,
      "outputs": []
    },
    {
      "cell_type": "markdown",
      "metadata": {
        "id": "eOcu0Q3VL2vA"
      },
      "source": [
        "### Задание 3\n",
        "Найдите скалярное произведение столбцов массива a_centered. В результате должна получиться величина a_centered_sp. Затем поделите a_centered_sp на N-1, где N - число наблюдений."
      ]
    },
    {
      "cell_type": "code",
      "metadata": {
        "id": "1c-ed63HLQdL"
      },
      "source": [
        "a1 = a_centered[:,0]\n",
        "a2 = a_centered[:,1]\n",
        "\n",
        "a_centered_sp = np.dot(a1, a2)\n",
        "\n",
        "n = a.shape[0]\n",
        "\n",
        "a_centered_sp = a_centered_sp / (n - 1)\n",
        "a_centered_sp"
      ],
      "execution_count": null,
      "outputs": []
    },
    {
      "cell_type": "markdown",
      "metadata": {
        "id": "dh8P3XFIXKCp"
      },
      "source": [
        "# Тема “Работа с данными в Pandas”\n"
      ]
    },
    {
      "cell_type": "markdown",
      "metadata": {
        "id": "jRcBb9zOXQCH"
      },
      "source": [
        "### Задание 1\n",
        "Импортируйте библиотеку Pandas и дайте ей псевдоним pd. Создайте датафрейм authors со столбцами author_id и author_name, в которых соответственно содержатся данные:\n",
        "[1, 2, 3] и ['Тургенев', 'Чехов', 'Островский'].\n",
        "\n",
        "Затем создайте датафрейм book cо столбцами author_id, book_title и price, в которых соответственно содержатся данные:  \n",
        "[1, 1, 1, 2, 2, 3, 3],\n",
        "\n",
        "['Отцы и дети', 'Рудин', 'Дворянское гнездо', 'Толстый и тонкий', 'Дама с собачкой', 'Гроза', 'Таланты и поклонники'],\n",
        "\n",
        "[450, 300, 350, 500, 450, 370, 290].\n"
      ]
    },
    {
      "cell_type": "code",
      "metadata": {
        "id": "0TfIPpWvXR9_"
      },
      "source": [
        "import pandas as pd\n",
        "\n",
        "authors = pd.DataFrame({'author_id':[1, 2, 3],\n",
        "                        'author_name':['Тургенев', 'Чехов', 'Островский']},\n",
        "                        columns = ['author_id', 'author_name'])\n",
        "\n",
        "authors\n",
        "\n",
        "book = pd.DataFrame({'author_id':[1, 1, 1, 2, 2, 3, 3],\n",
        "                     'book_title':['Отцы и дети', 'Рудин', 'Дворянское гнездо', 'Толстый и тонкий', 'Дама с собачкой', 'Гроза', 'Таланты и поклонники'],\n",
        "                     'price':[450, 300, 350, 500, 450, 370, 290]},\n",
        "                     columns = ['author_id', 'book_title', 'price'])\n",
        "\n",
        "book"
      ],
      "execution_count": null,
      "outputs": []
    },
    {
      "cell_type": "markdown",
      "metadata": {
        "id": "G9MM3a8XZ5tv"
      },
      "source": [
        "### Задание 2\n",
        "Получите датафрейм authors_price, соединив датафреймы authors и books по полю author_id."
      ]
    },
    {
      "cell_type": "code",
      "metadata": {
        "id": "e37fdPodua42"
      },
      "source": [
        "authors_price = pd.merge(authors, book, on='author_id', how='inner')\n",
        "authors_price"
      ],
      "execution_count": null,
      "outputs": []
    },
    {
      "cell_type": "markdown",
      "metadata": {
        "id": "5g7R6Cj4u1Lw"
      },
      "source": [
        "### Задание 3\n",
        "Создайте датафрейм top5, в котором содержатся строки из authors_price с пятью самыми дорогими книгами."
      ]
    },
    {
      "cell_type": "code",
      "metadata": {
        "id": "c7M1ivyHvJte"
      },
      "source": [
        "top5 = book.nlargest(5, 'price')\n",
        "top5"
      ],
      "execution_count": null,
      "outputs": []
    },
    {
      "cell_type": "markdown",
      "metadata": {
        "id": "Re6ab7ipxjeX"
      },
      "source": [
        "### Задание 4\n",
        "Создайте датафрейм authors_stat на основе информации из authors_price. В датафрейме authors_stat должны быть четыре столбца:\n",
        "author_name, min_price, max_price и mean_price,\n",
        "в которых должны содержаться соответственно имя автора, минимальная, максимальная и средняя цена на книги этого автора.\n"
      ]
    },
    {
      "cell_type": "code",
      "metadata": {
        "id": "SdLiHIPaxlbb"
      },
      "source": [
        "df1 = authors_price.groupby('author_name').agg({'price': 'min'}).rename(columns={'price':'min_price'})\n",
        "\n",
        "df2 = authors_price.groupby('author_name').agg({'price': 'max'}).rename(columns={'price':'max_price'})\n",
        "\n",
        "df3 = authors_price.groupby('author_name').agg({'price': 'mean'}).rename(columns={'price':'mean_price'})\n",
        "\n",
        "authors_stat=pd.concat([df1, df2, df3], axis = 1)\n",
        "\n",
        "authors_stat"
      ],
      "execution_count": null,
      "outputs": []
    }
  ]
}