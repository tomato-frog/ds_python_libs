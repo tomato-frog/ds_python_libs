{
  "nbformat": 4,
  "nbformat_minor": 0,
  "metadata": {
    "colab": {
      "name": "lesson_6.ipynb",
      "provenance": [],
      "toc_visible": true,
      "authorship_tag": "ABX9TyMI4ZX0QqN0ubPT8SymfXrV",
      "include_colab_link": true
    },
    "kernelspec": {
      "name": "python3",
      "display_name": "Python 3"
    }
  },
  "cells": [
    {
      "cell_type": "markdown",
      "metadata": {
        "id": "view-in-github",
        "colab_type": "text"
      },
      "source": [
        "<a href=\"https://colab.research.google.com/github/tomato-frog/ds_python_libs/blob/lesson_6/lesson_6.ipynb\" target=\"_parent\"><img src=\"https://colab.research.google.com/assets/colab-badge.svg\" alt=\"Open In Colab\"/></a>"
      ]
    },
    {
      "cell_type": "markdown",
      "metadata": {
        "id": "AcnScHtJV9v1"
      },
      "source": [
        "# Обучение с учителем"
      ]
    },
    {
      "cell_type": "markdown",
      "metadata": {
        "id": "irdYwKLSWAFQ"
      },
      "source": [
        "### Задание 1\n",
        "Импортируйте библиотеки pandas и numpy.\n",
        "Загрузите \"Boston House Prices dataset\" из встроенных наборов данных библиотеки sklearn. Создайте датафреймы X и y из этих данных.\n",
        "Разбейте эти датафреймы на тренировочные (X_train, y_train) и тестовые (X_test, y_test) с помощью функции train_test_split так, чтобы размер тестовой выборки\n",
        "составлял 30% от всех данных, при этом аргумент random_state должен быть равен 42.\n",
        "Создайте модель линейной регрессии под названием lr с помощью класса LinearRegression из модуля sklearn.linear_model.\n",
        "Обучите модель на тренировочных данных (используйте все признаки) и сделайте предсказание на тестовых.\n",
        "Вычислите R2 полученных предказаний с помощью r2_score из модуля sklearn.metrics.\n"
      ]
    },
    {
      "cell_type": "code",
      "metadata": {
        "colab": {
          "base_uri": "https://localhost:8080/"
        },
        "id": "AkuxPEOkWECe",
        "outputId": "807b8082-2b8d-487f-e5c4-02018ad65aa5"
      },
      "source": [
        "import pandas as pd\n",
        "import numpy as np\n",
        "from sklearn.datasets import load_boston\n",
        "\n",
        "boston = load_boston()\n",
        "\n",
        "data = boston['data']\n",
        "target = boston['target']\n",
        "feature_names = boston['feature_names']\n",
        "\n",
        "X = pd.DataFrame(data, columns=feature_names)\n",
        "y = pd.DataFrame(target, columns=['price'])\n",
        "\n",
        "from sklearn.model_selection import train_test_split\n",
        "X_train, X_test, y_train, y_test = train_test_split(X, y, test_size=0.30, random_state=42)\n",
        "\n",
        "from sklearn.linear_model import LinearRegression\n",
        "lr = LinearRegression()\n",
        "\n",
        "lr.fit(x_train, y_train)\n",
        "y_pred = lr.predict(X_test)\n",
        "\n",
        "check_test = pd.DataFrame({\n",
        " \"y_test\": y_test[\"price\"],\n",
        " \"y_pred\": y_pred.flatten(),\n",
        "})\n",
        "\n",
        "from sklearn.metrics import r2_score\n",
        "r2_score_1 = r2_score(check_test[\"y_pred\"], check_test[\"y_test\"])\n",
        "r2_score_1"
      ],
      "execution_count": null,
      "outputs": [
        {
          "output_type": "execute_result",
          "data": {
            "text/plain": [
              "0.6693702691495629"
            ]
          },
          "metadata": {
            "tags": []
          },
          "execution_count": 3
        }
      ]
    },
    {
      "cell_type": "markdown",
      "metadata": {
        "id": "vJOPVX6G6gJL"
      },
      "source": [
        "### Задание 2\n",
        "Создайте модель под названием model с помощью RandomForestRegressor из модуля sklearn.ensemble.\n",
        "Сделайте агрумент n_estimators равным 1000,\n",
        "max_depth должен быть равен 12 и random_state сделайте равным 42.\n",
        "Обучите модель на тренировочных данных аналогично тому, как вы обучали модель LinearRegression,\n",
        "но при этом в метод fit вместо датафрейма y_train поставьте y_train.values[:, 0],\n",
        "чтобы получить из датафрейма одномерный массив Numpy,\n",
        "так как для класса RandomForestRegressor в данном методе для аргумента y предпочтительно применение массивов вместо датафрейма.\n",
        "Сделайте предсказание на тестовых данных и посчитайте R2. Сравните с результатом из предыдущего задания.\n",
        "Напишите в комментариях к коду, какая модель в данном случае работает лучше.\n"
      ]
    },
    {
      "cell_type": "code",
      "metadata": {
        "colab": {
          "base_uri": "https://localhost:8080/"
        },
        "id": "8nk1F68R6nv6",
        "outputId": "ca6f8e51-5e8b-49c6-f49c-3a6c31f028fe"
      },
      "source": [
        "from sklearn.ensemble import RandomForestRegressor\n",
        "\n",
        "model = RandomForestRegressor(n_estimators=1000, max_depth=12, random_state=42)\n",
        "\n",
        "model.fit(X_train, y_train.values[:, 0])\n",
        "\n",
        "y_pred = model.predict(X_test)\n",
        "\n",
        "check_test = pd.DataFrame({\n",
        " \"y_test\": y_test[\"price\"],\n",
        " \"y_pred\": y_pred.flatten(),\n",
        "})\n",
        "\n",
        "r2_score_2=r2_score(check_test[\"y_pred\"], check_test[\"y_test\"])\n",
        "r2_score_2\n",
        "\n",
        "# Модель RandomForestRegressor работает лучше, чем LinearRegression\n",
        "r2_score_1<r2_score_2"
      ],
      "execution_count": null,
      "outputs": [
        {
          "output_type": "execute_result",
          "data": {
            "text/plain": [
              "True"
            ]
          },
          "metadata": {
            "tags": []
          },
          "execution_count": 4
        }
      ]
    }
  ]
}